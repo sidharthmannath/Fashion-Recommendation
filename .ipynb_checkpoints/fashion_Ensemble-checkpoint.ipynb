{
 "cells": [
  {
   "cell_type": "code",
   "execution_count": 104,
   "metadata": {},
   "outputs": [],
   "source": [
    "# Import Libraries\n",
    "import numpy as num\n",
    "import pandas as pd\n",
    "import matplotlib.pyplot as graph\n",
    "import seaborn as sb\n",
    "import sys\n",
    "import warnings\n",
    "if not sys.warnoptions:\n",
    "    warnings.simplefilter(\"ignore\")"
   ]
  },
  {
   "cell_type": "code",
   "execution_count": 105,
   "metadata": {},
   "outputs": [],
   "source": [
    "#To check Performances\n",
    "from sklearn.metrics import accuracy_score\n",
    "from sklearn.metrics import precision_score\n",
    "from sklearn.metrics import recall_score\n",
    "from sklearn.metrics import f1_score"
   ]
  },
  {
   "cell_type": "code",
   "execution_count": 106,
   "metadata": {},
   "outputs": [],
   "source": [
    "def evaluateModel(input_data , algo_output):\n",
    "    Modelacc = accuracy_score(input_data , algo_output) * 100\n",
    "    modelpreci = precision_score(input_data , algo_output) * 100\n",
    "    ModelRecal = recall_score(input_data , algo_output) * 100\n",
    "    finalscore = f1_score(input_data , algo_output, average='weighted')\n",
    "    print('Modelacc is {:.4f}%\\n ModelPrecision is {:.4f}%\\n ModelRecall is {:.4f}%\\nModelF1 Score is {:.4f}\\n'.format(Modelacc, modelpreci, ModelRecal, finalscore))"
   ]
  },
  {
   "cell_type": "code",
   "execution_count": 107,
   "metadata": {},
   "outputs": [],
   "source": [
    "# Set Data\n",
    "Features_labels = pd.read_csv(\"fd.csv\")\n",
    "wFeatures_labels=pd.read_csv(\"fd1.csv\")"
   ]
  },
  {
   "cell_type": "code",
   "execution_count": 108,
   "metadata": {},
   "outputs": [
    {
     "data": {
      "text/plain": [
       "Index(['Bust', 'waist', 'hip', 'sholders', 'slevers', 'size', 'colour',\n",
       "       'Label'],\n",
       "      dtype='object')"
      ]
     },
     "execution_count": 108,
     "metadata": {},
     "output_type": "execute_result"
    }
   ],
   "source": [
    "Features_labels.columns\n",
    "wFeatures_labels.columns"
   ]
  },
  {
   "cell_type": "code",
   "execution_count": 109,
   "metadata": {},
   "outputs": [
    {
     "data": {
      "text/html": [
       "<div>\n",
       "<style scoped>\n",
       "    .dataframe tbody tr th:only-of-type {\n",
       "        vertical-align: middle;\n",
       "    }\n",
       "\n",
       "    .dataframe tbody tr th {\n",
       "        vertical-align: top;\n",
       "    }\n",
       "\n",
       "    .dataframe thead th {\n",
       "        text-align: right;\n",
       "    }\n",
       "</style>\n",
       "<table border=\"1\" class=\"dataframe\">\n",
       "  <thead>\n",
       "    <tr style=\"text-align: right;\">\n",
       "      <th></th>\n",
       "      <th>chest</th>\n",
       "      <th>sholders</th>\n",
       "      <th>length</th>\n",
       "      <th>size</th>\n",
       "      <th>across sholder</th>\n",
       "      <th>sleeve length</th>\n",
       "      <th>colour</th>\n",
       "      <th>Category</th>\n",
       "      <th>Label</th>\n",
       "    </tr>\n",
       "  </thead>\n",
       "  <tbody>\n",
       "    <tr>\n",
       "      <th>0</th>\n",
       "      <td>19</td>\n",
       "      <td>16</td>\n",
       "      <td>27.0</td>\n",
       "      <td>38</td>\n",
       "      <td>17.5</td>\n",
       "      <td>24.0</td>\n",
       "      <td>0</td>\n",
       "      <td>S</td>\n",
       "      <td>1</td>\n",
       "    </tr>\n",
       "    <tr>\n",
       "      <th>1</th>\n",
       "      <td>19</td>\n",
       "      <td>16</td>\n",
       "      <td>27.0</td>\n",
       "      <td>38</td>\n",
       "      <td>17.5</td>\n",
       "      <td>24.0</td>\n",
       "      <td>1</td>\n",
       "      <td>S</td>\n",
       "      <td>2</td>\n",
       "    </tr>\n",
       "    <tr>\n",
       "      <th>2</th>\n",
       "      <td>19</td>\n",
       "      <td>16</td>\n",
       "      <td>27.0</td>\n",
       "      <td>38</td>\n",
       "      <td>17.5</td>\n",
       "      <td>24.0</td>\n",
       "      <td>2</td>\n",
       "      <td>S</td>\n",
       "      <td>3</td>\n",
       "    </tr>\n",
       "    <tr>\n",
       "      <th>3</th>\n",
       "      <td>28</td>\n",
       "      <td>23</td>\n",
       "      <td>28.0</td>\n",
       "      <td>40</td>\n",
       "      <td>19.0</td>\n",
       "      <td>24.5</td>\n",
       "      <td>0</td>\n",
       "      <td>M</td>\n",
       "      <td>1</td>\n",
       "    </tr>\n",
       "    <tr>\n",
       "      <th>4</th>\n",
       "      <td>28</td>\n",
       "      <td>23</td>\n",
       "      <td>28.0</td>\n",
       "      <td>40</td>\n",
       "      <td>19.0</td>\n",
       "      <td>24.5</td>\n",
       "      <td>1</td>\n",
       "      <td>M</td>\n",
       "      <td>2</td>\n",
       "    </tr>\n",
       "    <tr>\n",
       "      <th>5</th>\n",
       "      <td>28</td>\n",
       "      <td>23</td>\n",
       "      <td>28.0</td>\n",
       "      <td>40</td>\n",
       "      <td>19.0</td>\n",
       "      <td>24.5</td>\n",
       "      <td>2</td>\n",
       "      <td>M</td>\n",
       "      <td>3</td>\n",
       "    </tr>\n",
       "    <tr>\n",
       "      <th>6</th>\n",
       "      <td>29</td>\n",
       "      <td>24</td>\n",
       "      <td>29.5</td>\n",
       "      <td>42</td>\n",
       "      <td>20.0</td>\n",
       "      <td>25.0</td>\n",
       "      <td>0</td>\n",
       "      <td>L</td>\n",
       "      <td>1</td>\n",
       "    </tr>\n",
       "    <tr>\n",
       "      <th>7</th>\n",
       "      <td>29</td>\n",
       "      <td>24</td>\n",
       "      <td>29.5</td>\n",
       "      <td>42</td>\n",
       "      <td>20.0</td>\n",
       "      <td>25.0</td>\n",
       "      <td>1</td>\n",
       "      <td>L</td>\n",
       "      <td>2</td>\n",
       "    </tr>\n",
       "    <tr>\n",
       "      <th>8</th>\n",
       "      <td>29</td>\n",
       "      <td>24</td>\n",
       "      <td>29.5</td>\n",
       "      <td>42</td>\n",
       "      <td>20.0</td>\n",
       "      <td>25.0</td>\n",
       "      <td>2</td>\n",
       "      <td>L</td>\n",
       "      <td>3</td>\n",
       "    </tr>\n",
       "    <tr>\n",
       "      <th>9</th>\n",
       "      <td>29</td>\n",
       "      <td>25</td>\n",
       "      <td>29.5</td>\n",
       "      <td>44</td>\n",
       "      <td>20.5</td>\n",
       "      <td>26.0</td>\n",
       "      <td>0</td>\n",
       "      <td>XL</td>\n",
       "      <td>1</td>\n",
       "    </tr>\n",
       "  </tbody>\n",
       "</table>\n",
       "</div>"
      ],
      "text/plain": [
       "   chest  sholders  length  size  across sholder  sleeve length  colour  \\\n",
       "0     19        16    27.0    38            17.5           24.0       0   \n",
       "1     19        16    27.0    38            17.5           24.0       1   \n",
       "2     19        16    27.0    38            17.5           24.0       2   \n",
       "3     28        23    28.0    40            19.0           24.5       0   \n",
       "4     28        23    28.0    40            19.0           24.5       1   \n",
       "5     28        23    28.0    40            19.0           24.5       2   \n",
       "6     29        24    29.5    42            20.0           25.0       0   \n",
       "7     29        24    29.5    42            20.0           25.0       1   \n",
       "8     29        24    29.5    42            20.0           25.0       2   \n",
       "9     29        25    29.5    44            20.5           26.0       0   \n",
       "\n",
       "  Category  Label  \n",
       "0        S      1  \n",
       "1        S      2  \n",
       "2        S      3  \n",
       "3        M      1  \n",
       "4        M      2  \n",
       "5        M      3  \n",
       "6        L      1  \n",
       "7        L      2  \n",
       "8        L      3  \n",
       "9       XL      1  "
      ]
     },
     "execution_count": 109,
     "metadata": {},
     "output_type": "execute_result"
    }
   ],
   "source": [
    "Features_labels.head(10)"
   ]
  },
  {
   "cell_type": "code",
   "execution_count": 110,
   "metadata": {},
   "outputs": [
    {
     "data": {
      "text/html": [
       "<div>\n",
       "<style scoped>\n",
       "    .dataframe tbody tr th:only-of-type {\n",
       "        vertical-align: middle;\n",
       "    }\n",
       "\n",
       "    .dataframe tbody tr th {\n",
       "        vertical-align: top;\n",
       "    }\n",
       "\n",
       "    .dataframe thead th {\n",
       "        text-align: right;\n",
       "    }\n",
       "</style>\n",
       "<table border=\"1\" class=\"dataframe\">\n",
       "  <thead>\n",
       "    <tr style=\"text-align: right;\">\n",
       "      <th></th>\n",
       "      <th>Bust</th>\n",
       "      <th>waist</th>\n",
       "      <th>hip</th>\n",
       "      <th>sholders</th>\n",
       "      <th>slevers</th>\n",
       "      <th>size</th>\n",
       "      <th>colour</th>\n",
       "      <th>Label</th>\n",
       "    </tr>\n",
       "  </thead>\n",
       "  <tbody>\n",
       "    <tr>\n",
       "      <th>0</th>\n",
       "      <td>36</td>\n",
       "      <td>31</td>\n",
       "      <td>37</td>\n",
       "      <td>15.0</td>\n",
       "      <td>23.0</td>\n",
       "      <td>XS</td>\n",
       "      <td>0</td>\n",
       "      <td>1</td>\n",
       "    </tr>\n",
       "    <tr>\n",
       "      <th>1</th>\n",
       "      <td>36</td>\n",
       "      <td>31</td>\n",
       "      <td>37</td>\n",
       "      <td>15.0</td>\n",
       "      <td>23.0</td>\n",
       "      <td>XS</td>\n",
       "      <td>1</td>\n",
       "      <td>2</td>\n",
       "    </tr>\n",
       "    <tr>\n",
       "      <th>2</th>\n",
       "      <td>36</td>\n",
       "      <td>31</td>\n",
       "      <td>37</td>\n",
       "      <td>15.0</td>\n",
       "      <td>23.0</td>\n",
       "      <td>XS</td>\n",
       "      <td>2</td>\n",
       "      <td>3</td>\n",
       "    </tr>\n",
       "    <tr>\n",
       "      <th>3</th>\n",
       "      <td>38</td>\n",
       "      <td>33</td>\n",
       "      <td>39</td>\n",
       "      <td>15.5</td>\n",
       "      <td>24.0</td>\n",
       "      <td>S</td>\n",
       "      <td>0</td>\n",
       "      <td>1</td>\n",
       "    </tr>\n",
       "    <tr>\n",
       "      <th>4</th>\n",
       "      <td>38</td>\n",
       "      <td>33</td>\n",
       "      <td>39</td>\n",
       "      <td>15.5</td>\n",
       "      <td>24.0</td>\n",
       "      <td>S</td>\n",
       "      <td>1</td>\n",
       "      <td>2</td>\n",
       "    </tr>\n",
       "    <tr>\n",
       "      <th>5</th>\n",
       "      <td>38</td>\n",
       "      <td>33</td>\n",
       "      <td>39</td>\n",
       "      <td>15.5</td>\n",
       "      <td>24.0</td>\n",
       "      <td>S</td>\n",
       "      <td>2</td>\n",
       "      <td>3</td>\n",
       "    </tr>\n",
       "    <tr>\n",
       "      <th>6</th>\n",
       "      <td>40</td>\n",
       "      <td>35</td>\n",
       "      <td>42</td>\n",
       "      <td>16.0</td>\n",
       "      <td>24.0</td>\n",
       "      <td>M</td>\n",
       "      <td>0</td>\n",
       "      <td>1</td>\n",
       "    </tr>\n",
       "    <tr>\n",
       "      <th>7</th>\n",
       "      <td>40</td>\n",
       "      <td>35</td>\n",
       "      <td>42</td>\n",
       "      <td>16.0</td>\n",
       "      <td>24.0</td>\n",
       "      <td>M</td>\n",
       "      <td>1</td>\n",
       "      <td>2</td>\n",
       "    </tr>\n",
       "    <tr>\n",
       "      <th>8</th>\n",
       "      <td>40</td>\n",
       "      <td>35</td>\n",
       "      <td>42</td>\n",
       "      <td>16.0</td>\n",
       "      <td>24.0</td>\n",
       "      <td>M</td>\n",
       "      <td>2</td>\n",
       "      <td>3</td>\n",
       "    </tr>\n",
       "    <tr>\n",
       "      <th>9</th>\n",
       "      <td>42</td>\n",
       "      <td>37</td>\n",
       "      <td>44</td>\n",
       "      <td>16.5</td>\n",
       "      <td>24.5</td>\n",
       "      <td>L</td>\n",
       "      <td>0</td>\n",
       "      <td>1</td>\n",
       "    </tr>\n",
       "  </tbody>\n",
       "</table>\n",
       "</div>"
      ],
      "text/plain": [
       "   Bust  waist  hip  sholders  slevers size  colour  Label\n",
       "0    36     31   37      15.0     23.0   XS       0      1\n",
       "1    36     31   37      15.0     23.0   XS       1      2\n",
       "2    36     31   37      15.0     23.0   XS       2      3\n",
       "3    38     33   39      15.5     24.0    S       0      1\n",
       "4    38     33   39      15.5     24.0    S       1      2\n",
       "5    38     33   39      15.5     24.0    S       2      3\n",
       "6    40     35   42      16.0     24.0    M       0      1\n",
       "7    40     35   42      16.0     24.0    M       1      2\n",
       "8    40     35   42      16.0     24.0    M       2      3\n",
       "9    42     37   44      16.5     24.5    L       0      1"
      ]
     },
     "execution_count": 110,
     "metadata": {},
     "output_type": "execute_result"
    }
   ],
   "source": [
    "wFeatures_labels.head(10)"
   ]
  },
  {
   "cell_type": "code",
   "execution_count": 111,
   "metadata": {},
   "outputs": [
    {
     "data": {
      "text/html": [
       "<div>\n",
       "<style scoped>\n",
       "    .dataframe tbody tr th:only-of-type {\n",
       "        vertical-align: middle;\n",
       "    }\n",
       "\n",
       "    .dataframe tbody tr th {\n",
       "        vertical-align: top;\n",
       "    }\n",
       "\n",
       "    .dataframe thead th {\n",
       "        text-align: right;\n",
       "    }\n",
       "</style>\n",
       "<table border=\"1\" class=\"dataframe\">\n",
       "  <thead>\n",
       "    <tr style=\"text-align: right;\">\n",
       "      <th></th>\n",
       "      <th>chest</th>\n",
       "      <th>sholders</th>\n",
       "      <th>length</th>\n",
       "      <th>size</th>\n",
       "      <th>across sholder</th>\n",
       "      <th>sleeve length</th>\n",
       "      <th>colour</th>\n",
       "      <th>Label</th>\n",
       "    </tr>\n",
       "  </thead>\n",
       "  <tbody>\n",
       "    <tr>\n",
       "      <th>count</th>\n",
       "      <td>90.000000</td>\n",
       "      <td>90.000000</td>\n",
       "      <td>90.000000</td>\n",
       "      <td>90.000000</td>\n",
       "      <td>90.00000</td>\n",
       "      <td>90.000000</td>\n",
       "      <td>90.000000</td>\n",
       "      <td>90.000000</td>\n",
       "    </tr>\n",
       "    <tr>\n",
       "      <th>mean</th>\n",
       "      <td>27.000000</td>\n",
       "      <td>22.800000</td>\n",
       "      <td>27.000000</td>\n",
       "      <td>42.000000</td>\n",
       "      <td>19.60000</td>\n",
       "      <td>25.100000</td>\n",
       "      <td>1.000000</td>\n",
       "      <td>2.000000</td>\n",
       "    </tr>\n",
       "    <tr>\n",
       "      <th>std</th>\n",
       "      <td>4.072379</td>\n",
       "      <td>3.563864</td>\n",
       "      <td>3.164054</td>\n",
       "      <td>2.844273</td>\n",
       "      <td>1.24792</td>\n",
       "      <td>0.804482</td>\n",
       "      <td>0.821071</td>\n",
       "      <td>0.821071</td>\n",
       "    </tr>\n",
       "    <tr>\n",
       "      <th>min</th>\n",
       "      <td>19.000000</td>\n",
       "      <td>16.000000</td>\n",
       "      <td>21.000000</td>\n",
       "      <td>38.000000</td>\n",
       "      <td>17.50000</td>\n",
       "      <td>24.000000</td>\n",
       "      <td>0.000000</td>\n",
       "      <td>1.000000</td>\n",
       "    </tr>\n",
       "    <tr>\n",
       "      <th>25%</th>\n",
       "      <td>28.000000</td>\n",
       "      <td>23.000000</td>\n",
       "      <td>27.000000</td>\n",
       "      <td>40.000000</td>\n",
       "      <td>19.00000</td>\n",
       "      <td>24.500000</td>\n",
       "      <td>0.000000</td>\n",
       "      <td>1.000000</td>\n",
       "    </tr>\n",
       "    <tr>\n",
       "      <th>50%</th>\n",
       "      <td>29.000000</td>\n",
       "      <td>24.000000</td>\n",
       "      <td>28.000000</td>\n",
       "      <td>42.000000</td>\n",
       "      <td>20.00000</td>\n",
       "      <td>25.000000</td>\n",
       "      <td>1.000000</td>\n",
       "      <td>2.000000</td>\n",
       "    </tr>\n",
       "    <tr>\n",
       "      <th>75%</th>\n",
       "      <td>29.000000</td>\n",
       "      <td>25.000000</td>\n",
       "      <td>29.500000</td>\n",
       "      <td>44.000000</td>\n",
       "      <td>20.50000</td>\n",
       "      <td>26.000000</td>\n",
       "      <td>2.000000</td>\n",
       "      <td>3.000000</td>\n",
       "    </tr>\n",
       "    <tr>\n",
       "      <th>max</th>\n",
       "      <td>30.000000</td>\n",
       "      <td>26.000000</td>\n",
       "      <td>29.500000</td>\n",
       "      <td>46.000000</td>\n",
       "      <td>21.00000</td>\n",
       "      <td>26.000000</td>\n",
       "      <td>2.000000</td>\n",
       "      <td>3.000000</td>\n",
       "    </tr>\n",
       "  </tbody>\n",
       "</table>\n",
       "</div>"
      ],
      "text/plain": [
       "           chest   sholders     length       size  across sholder  \\\n",
       "count  90.000000  90.000000  90.000000  90.000000        90.00000   \n",
       "mean   27.000000  22.800000  27.000000  42.000000        19.60000   \n",
       "std     4.072379   3.563864   3.164054   2.844273         1.24792   \n",
       "min    19.000000  16.000000  21.000000  38.000000        17.50000   \n",
       "25%    28.000000  23.000000  27.000000  40.000000        19.00000   \n",
       "50%    29.000000  24.000000  28.000000  42.000000        20.00000   \n",
       "75%    29.000000  25.000000  29.500000  44.000000        20.50000   \n",
       "max    30.000000  26.000000  29.500000  46.000000        21.00000   \n",
       "\n",
       "       sleeve length     colour      Label  \n",
       "count      90.000000  90.000000  90.000000  \n",
       "mean       25.100000   1.000000   2.000000  \n",
       "std         0.804482   0.821071   0.821071  \n",
       "min        24.000000   0.000000   1.000000  \n",
       "25%        24.500000   0.000000   1.000000  \n",
       "50%        25.000000   1.000000   2.000000  \n",
       "75%        26.000000   2.000000   3.000000  \n",
       "max        26.000000   2.000000   3.000000  "
      ]
     },
     "execution_count": 111,
     "metadata": {},
     "output_type": "execute_result"
    }
   ],
   "source": [
    "Features_labels.describe()"
   ]
  },
  {
   "cell_type": "code",
   "execution_count": 115,
   "metadata": {},
   "outputs": [
    {
     "data": {
      "text/plain": [
       "<AxesSubplot:title={'center':'Pearson Correlation Matrix'}>"
      ]
     },
     "execution_count": 115,
     "metadata": {},
     "output_type": "execute_result"
    },
    {
     "data": {
      "image/png": "[encoded data removed]",
      "text/plain": [
       "<Figure size 1152x864 with 2 Axes>"
      ]
     },
     "metadata": {
      "needs_background": "light"
     },
     "output_type": "display_data"
    }
   ],
   "source": [
    "DatasetFeatureNames = ['chest', 'sholders', 'length', 'size', 'across sholder', 'sleeve length',\n",
    "        'colour','Category','Label']\n",
    "\n",
    "maskingdata = num.zeros_like(Features_labels[DatasetFeatureNames].corr(), dtype = num.bool) \n",
    "maskingdata[num.triu_indices_from(maskingdata)] = True \n",
    "\n",
    "f, ax = graph.subplots(figsize=(16, 12))\n",
    "graph.title('Pearson Correlation Matrix',fontsize=25)\n",
    "\n",
    "sb.heatmap(Features_labels[DatasetFeatureNames].corr(),linewidths = 0.25,vmax = 0.7,square = True,cmap = \"BuGn\", \n",
    "            linecolor = 'w',annot = True,annot_kws = {\"size\":8},mask = maskingdata,cbar_kws = {\"shrink\": 0.9})"
   ]
  },
  {
   "cell_type": "code",
   "execution_count": 116,
   "metadata": {},
   "outputs": [
    {
     "data": {
      "text/plain": [
       "<AxesSubplot:title={'center':'Pearson Correlation Matrix'}>"
      ]
     },
     "execution_count": 116,
     "metadata": {},
     "output_type": "execute_result"
    },
    {
     "data": {
      "image/png": "[encoded data removed]",
      "text/plain": [
       "<Figure size 1152x864 with 2 Axes>"
      ]
     },
     "metadata": {
      "needs_background": "light"
     },
     "output_type": "display_data"
    }
   ],
   "source": [
    "wDatasetFeatureNames = ['Bust', 'waist', 'hip', 'sholders', 'slevers', 'size',\n",
    "       'colour', 'Label']\n",
    "\n",
    "maskingdata = num.zeros_like(Features_labels[DatasetFeatureNames].corr(), dtype = num.bool) \n",
    "maskingdata[num.triu_indices_from(maskingdata)] = True \n",
    "\n",
    "f, ax = graph.subplots(figsize=(16, 12))\n",
    "graph.title('Pearson Correlation Matrix',fontsize=25)\n",
    "\n",
    "sb.heatmap(Features_labels[DatasetFeatureNames].corr(),linewidths = 0.25,vmax = 0.7,square = True,cmap = \"BuGn\", \n",
    "            linecolor = 'w',annot = True,annot_kws = {\"size\":8},mask = maskingdata,cbar_kws = {\"shrink\": 0.9})"
   ]
  },
  {
   "cell_type": "code",
   "execution_count": 117,
   "metadata": {},
   "outputs": [
    {
     "data": {
      "text/html": [
       "<div>\n",
       "<style scoped>\n",
       "    .dataframe tbody tr th:only-of-type {\n",
       "        vertical-align: middle;\n",
       "    }\n",
       "\n",
       "    .dataframe tbody tr th {\n",
       "        vertical-align: top;\n",
       "    }\n",
       "\n",
       "    .dataframe thead th {\n",
       "        text-align: right;\n",
       "    }\n",
       "</style>\n",
       "<table border=\"1\" class=\"dataframe\">\n",
       "  <thead>\n",
       "    <tr style=\"text-align: right;\">\n",
       "      <th></th>\n",
       "      <th>chest</th>\n",
       "      <th>sholders</th>\n",
       "      <th>length</th>\n",
       "      <th>size</th>\n",
       "      <th>across sholder</th>\n",
       "      <th>sleeve length</th>\n",
       "      <th>colour</th>\n",
       "      <th>Category</th>\n",
       "      <th>Label</th>\n",
       "    </tr>\n",
       "  </thead>\n",
       "  <tbody>\n",
       "    <tr>\n",
       "      <th>0</th>\n",
       "      <td>19</td>\n",
       "      <td>16</td>\n",
       "      <td>27.0</td>\n",
       "      <td>38</td>\n",
       "      <td>17.5</td>\n",
       "      <td>24.0</td>\n",
       "      <td>0</td>\n",
       "      <td>S</td>\n",
       "      <td>1</td>\n",
       "    </tr>\n",
       "    <tr>\n",
       "      <th>1</th>\n",
       "      <td>19</td>\n",
       "      <td>16</td>\n",
       "      <td>27.0</td>\n",
       "      <td>38</td>\n",
       "      <td>17.5</td>\n",
       "      <td>24.0</td>\n",
       "      <td>1</td>\n",
       "      <td>S</td>\n",
       "      <td>2</td>\n",
       "    </tr>\n",
       "    <tr>\n",
       "      <th>2</th>\n",
       "      <td>19</td>\n",
       "      <td>16</td>\n",
       "      <td>27.0</td>\n",
       "      <td>38</td>\n",
       "      <td>17.5</td>\n",
       "      <td>24.0</td>\n",
       "      <td>2</td>\n",
       "      <td>S</td>\n",
       "      <td>3</td>\n",
       "    </tr>\n",
       "    <tr>\n",
       "      <th>3</th>\n",
       "      <td>28</td>\n",
       "      <td>23</td>\n",
       "      <td>28.0</td>\n",
       "      <td>40</td>\n",
       "      <td>19.0</td>\n",
       "      <td>24.5</td>\n",
       "      <td>0</td>\n",
       "      <td>M</td>\n",
       "      <td>1</td>\n",
       "    </tr>\n",
       "    <tr>\n",
       "      <th>4</th>\n",
       "      <td>28</td>\n",
       "      <td>23</td>\n",
       "      <td>28.0</td>\n",
       "      <td>40</td>\n",
       "      <td>19.0</td>\n",
       "      <td>24.5</td>\n",
       "      <td>1</td>\n",
       "      <td>M</td>\n",
       "      <td>2</td>\n",
       "    </tr>\n",
       "  </tbody>\n",
       "</table>\n",
       "</div>"
      ],
      "text/plain": [
       "   chest  sholders  length  size  across sholder  sleeve length  colour  \\\n",
       "0     19        16    27.0    38            17.5           24.0       0   \n",
       "1     19        16    27.0    38            17.5           24.0       1   \n",
       "2     19        16    27.0    38            17.5           24.0       2   \n",
       "3     28        23    28.0    40            19.0           24.5       0   \n",
       "4     28        23    28.0    40            19.0           24.5       1   \n",
       "\n",
       "  Category  Label  \n",
       "0        S      1  \n",
       "1        S      2  \n",
       "2        S      3  \n",
       "3        M      1  \n",
       "4        M      2  "
      ]
     },
     "execution_count": 117,
     "metadata": {},
     "output_type": "execute_result"
    }
   ],
   "source": [
    "Features_labels.head()"
   ]
  },
  {
   "cell_type": "code",
   "execution_count": 118,
   "metadata": {},
   "outputs": [
    {
     "data": {
      "text/html": [
       "<div>\n",
       "<style scoped>\n",
       "    .dataframe tbody tr th:only-of-type {\n",
       "        vertical-align: middle;\n",
       "    }\n",
       "\n",
       "    .dataframe tbody tr th {\n",
       "        vertical-align: top;\n",
       "    }\n",
       "\n",
       "    .dataframe thead th {\n",
       "        text-align: right;\n",
       "    }\n",
       "</style>\n",
       "<table border=\"1\" class=\"dataframe\">\n",
       "  <thead>\n",
       "    <tr style=\"text-align: right;\">\n",
       "      <th></th>\n",
       "      <th>Bust</th>\n",
       "      <th>waist</th>\n",
       "      <th>hip</th>\n",
       "      <th>sholders</th>\n",
       "      <th>slevers</th>\n",
       "      <th>size</th>\n",
       "      <th>colour</th>\n",
       "      <th>Label</th>\n",
       "    </tr>\n",
       "  </thead>\n",
       "  <tbody>\n",
       "    <tr>\n",
       "      <th>0</th>\n",
       "      <td>36</td>\n",
       "      <td>31</td>\n",
       "      <td>37</td>\n",
       "      <td>15.0</td>\n",
       "      <td>23.0</td>\n",
       "      <td>XS</td>\n",
       "      <td>0</td>\n",
       "      <td>1</td>\n",
       "    </tr>\n",
       "    <tr>\n",
       "      <th>1</th>\n",
       "      <td>36</td>\n",
       "      <td>31</td>\n",
       "      <td>37</td>\n",
       "      <td>15.0</td>\n",
       "      <td>23.0</td>\n",
       "      <td>XS</td>\n",
       "      <td>1</td>\n",
       "      <td>2</td>\n",
       "    </tr>\n",
       "    <tr>\n",
       "      <th>2</th>\n",
       "      <td>36</td>\n",
       "      <td>31</td>\n",
       "      <td>37</td>\n",
       "      <td>15.0</td>\n",
       "      <td>23.0</td>\n",
       "      <td>XS</td>\n",
       "      <td>2</td>\n",
       "      <td>3</td>\n",
       "    </tr>\n",
       "    <tr>\n",
       "      <th>3</th>\n",
       "      <td>38</td>\n",
       "      <td>33</td>\n",
       "      <td>39</td>\n",
       "      <td>15.5</td>\n",
       "      <td>24.0</td>\n",
       "      <td>S</td>\n",
       "      <td>0</td>\n",
       "      <td>1</td>\n",
       "    </tr>\n",
       "    <tr>\n",
       "      <th>4</th>\n",
       "      <td>38</td>\n",
       "      <td>33</td>\n",
       "      <td>39</td>\n",
       "      <td>15.5</td>\n",
       "      <td>24.0</td>\n",
       "      <td>S</td>\n",
       "      <td>1</td>\n",
       "      <td>2</td>\n",
       "    </tr>\n",
       "  </tbody>\n",
       "</table>\n",
       "</div>"
      ],
      "text/plain": [
       "   Bust  waist  hip  sholders  slevers size  colour  Label\n",
       "0    36     31   37      15.0     23.0   XS       0      1\n",
       "1    36     31   37      15.0     23.0   XS       1      2\n",
       "2    36     31   37      15.0     23.0   XS       2      3\n",
       "3    38     33   39      15.5     24.0    S       0      1\n",
       "4    38     33   39      15.5     24.0    S       1      2"
      ]
     },
     "execution_count": 118,
     "metadata": {},
     "output_type": "execute_result"
    }
   ],
   "source": [
    "wFeatures_labels.head()"
   ]
  },
  {
   "cell_type": "code",
   "execution_count": 120,
   "metadata": {},
   "outputs": [],
   "source": [
    "featuredata_X = Features_labels.iloc[:, :-1].values\n",
    "Labeldata_y= Features_labels.iloc[:, 8].values"
   ]
  },
  {
   "cell_type": "code",
   "execution_count": 122,
   "metadata": {},
   "outputs": [],
   "source": [
    "from sklearn.preprocessing import LabelEncoder\n",
    "trainx=LabelEncoder() \n",
    "featuredata_X[:,7]=trainx.fit_transform(featuredata_X[:,7])"
   ]
  },
  {
   "cell_type": "code",
   "execution_count": 123,
   "metadata": {},
   "outputs": [],
   "source": [
    "from sklearn.model_selection import train_test_split\n",
    "X_train, X_test, y_train, y_test = train_test_split(featuredata_X, Labeldata_y,\n",
    "                                                    test_size=0.2, random_state=69)  \n",
    " "
   ]
  },
  {
   "cell_type": "code",
   "execution_count": 124,
   "metadata": {},
   "outputs": [
    {
     "name": "stdout",
     "output_type": "stream",
     "text": [
      "1.0\n"
     ]
    }
   ],
   "source": [
    "from sklearn.linear_model import LogisticRegression\n",
    "LRmodel = LogisticRegression(solver='lbfgs')\n",
    "LRmodel.fit(X_train, y_train)\n",
    "loacc=LRmodel.score(X_test, y_test)\n",
    "print(loacc) "
   ]
  },
  {
   "cell_type": "code",
   "execution_count": 125,
   "metadata": {},
   "outputs": [
    {
     "name": "stdout",
     "output_type": "stream",
     "text": [
      "[2 2 1 3 2 1 2 2 3 3 1 3 3 2 1 3 3 1]\n",
      "[[19 16 27.0 38 17.5 24.0 1 2]\n",
      " [29 25 29.5 44 20.5 26.0 1 3]\n",
      " [30 26 21.0 46 21.0 26.0 0 4]\n",
      " [28 23 28.0 40 19.0 24.5 2 1]\n",
      " [29 24 29.5 42 20.0 25.0 1 0]\n",
      " [30 26 21.0 46 21.0 26.0 0 4]\n",
      " [29 25 29.5 44 20.5 26.0 1 3]\n",
      " [30 26 21.0 46 21.0 26.0 1 4]\n",
      " [29 24 29.5 42 20.0 25.0 2 0]\n",
      " [29 25 29.5 44 20.5 26.0 2 3]\n",
      " [19 16 27.0 38 17.5 24.0 0 2]\n",
      " [29 25 29.5 44 20.5 26.0 2 3]\n",
      " [29 24 29.5 42 20.0 25.0 2 0]\n",
      " [28 23 28.0 40 19.0 24.5 1 1]\n",
      " [29 24 29.5 42 20.0 25.0 0 0]\n",
      " [19 16 27.0 38 17.5 24.0 2 2]\n",
      " [29 24 29.5 42 20.0 25.0 2 0]\n",
      " [19 16 27.0 38 17.5 24.0 0 2]]\n"
     ]
    }
   ],
   "source": [
    "predicted_naive = LRmodel.predict(X_test)\n",
    "print(predicted_naive)\n",
    "print(X_test)"
   ]
  },
  {
   "cell_type": "code",
   "execution_count": 126,
   "metadata": {},
   "outputs": [],
   "source": [
    "wfeaturedata_X = wFeatures_labels.iloc[:, :-1].values\n",
    "wLabeldata_y= wFeatures_labels.iloc[:, 7].values"
   ]
  },
  {
   "cell_type": "code",
   "execution_count": 127,
   "metadata": {},
   "outputs": [],
   "source": [
    "from sklearn.preprocessing import LabelEncoder\n",
    "wtrainx=LabelEncoder()\n",
    "wfeaturedata_X[:,5]=wtrainx.fit_transform(wfeaturedata_X[:,5])\n",
    "wfeaturedata_X[:,6]=wtrainx.fit_transform(wfeaturedata_X[:,6])\n",
    " "
   ]
  },
  {
   "cell_type": "code",
   "execution_count": 128,
   "metadata": {},
   "outputs": [],
   "source": [
    "from sklearn.model_selection import train_test_split\n",
    "X_wtrain, X_wtest, y_wtrain, y_wtest = train_test_split(wfeaturedata_X, wLabeldata_y,\n",
    "                                                    test_size=0.2, random_state=69)  "
   ]
  },
  {
   "cell_type": "code",
   "execution_count": 129,
   "metadata": {},
   "outputs": [
    {
     "name": "stdout",
     "output_type": "stream",
     "text": [
      "1.0\n"
     ]
    }
   ],
   "source": [
    "from sklearn.linear_model import LogisticRegression\n",
    "wLRmodel = LogisticRegression(solver='lbfgs')\n",
    "wLRmodel.fit(X_wtrain, y_wtrain)\n",
    "wloacc=wLRmodel.score(X_wtest, y_wtest)\n",
    "print(wloacc) "
   ]
  },
  {
   "cell_type": "code",
   "execution_count": 130,
   "metadata": {},
   "outputs": [
    {
     "name": "stdout",
     "output_type": "stream",
     "text": [
      "[1 2 2 1 2 2 3 2 1 3 3 2 2 2 2]\n"
     ]
    }
   ],
   "source": [
    "predicted  = wLRmodel.predict(X_wtest)\n",
    "print(predicted)"
   ]
  },
  {
   "cell_type": "code",
   "execution_count": 132,
   "metadata": {},
   "outputs": [],
   "source": [
    "import numpy as np\n",
    "chest=28 \n",
    "sholders=23\n",
    "length=28\n",
    "size=40\n",
    "acrosssholder=19  \n",
    "sleevelength=24.5  \n",
    "colour=2\n",
    "Category='M'\n",
    "check = np.array([chest,sholders, length, size, acrosssholder, sleevelength, colour, Category]).reshape(1, -1)"
   ]
  },
  {
   "cell_type": "code",
   "execution_count": 136,
   "metadata": {},
   "outputs": [],
   "source": [
    " \n",
    "check[:,7]=trainx.fit_transform(check[:,7])\n",
    "   "
   ]
  },
  {
   "cell_type": "code",
   "execution_count": 137,
   "metadata": {},
   "outputs": [
    {
     "name": "stdout",
     "output_type": "stream",
     "text": [
      "[3]\n"
     ]
    }
   ],
   "source": [
    "B_pred1 = LRmodel.predict(check[[0]])\n",
    "print(B_pred1)"
   ]
  },
  {
   "cell_type": "code",
   "execution_count": 135,
   "metadata": {},
   "outputs": [
    {
     "name": "stdout",
     "output_type": "stream",
     "text": [
      "No Skill: ROC AUC=0.500\n",
      "KNN: ROC AUC=0.851\n"
     ]
    },
    {
     "data": {
      "image/png": "[encoded data removed]",
      "text/plain": [
       "<Figure size 432x288 with 1 Axes>"
      ]
     },
     "metadata": {
      "needs_background": "light"
     },
     "output_type": "display_data"
    },
    {
     "ename": "NameError",
     "evalue": "name 'precision_recall_curve' is not defined",
     "output_type": "error",
     "traceback": [
      "\u001b[1;31m---------------------------------------------------------------------------\u001b[0m",
      "\u001b[1;31mNameError\u001b[0m                                 Traceback (most recent call last)",
      "\u001b[1;32m<ipython-input-135-3b85cfccadaf>\u001b[0m in \u001b[0;36m<module>\u001b[1;34m\u001b[0m\n\u001b[0;32m     40\u001b[0m \u001b[0mpyplot\u001b[0m\u001b[1;33m.\u001b[0m\u001b[0mshow\u001b[0m\u001b[1;33m(\u001b[0m\u001b[1;33m)\u001b[0m\u001b[1;33m\u001b[0m\u001b[1;33m\u001b[0m\u001b[0m\n\u001b[0;32m     41\u001b[0m \u001b[0mKNN_Model_predict\u001b[0m \u001b[1;33m=\u001b[0m \u001b[0mmodel\u001b[0m\u001b[1;33m.\u001b[0m\u001b[0mpredict\u001b[0m\u001b[1;33m(\u001b[0m\u001b[0mknn_features_test\u001b[0m\u001b[1;33m)\u001b[0m\u001b[1;33m\u001b[0m\u001b[1;33m\u001b[0m\u001b[0m\n\u001b[1;32m---> 42\u001b[1;33m \u001b[0mKNN_precision\u001b[0m\u001b[1;33m,\u001b[0m \u001b[0mKNN_recall\u001b[0m\u001b[1;33m,\u001b[0m \u001b[0m_\u001b[0m \u001b[1;33m=\u001b[0m \u001b[0mprecision_recall_curve\u001b[0m\u001b[1;33m(\u001b[0m\u001b[0mknn_label_test\u001b[0m\u001b[1;33m,\u001b[0m \u001b[0mKNN_probs\u001b[0m\u001b[1;33m)\u001b[0m\u001b[1;33m\u001b[0m\u001b[1;33m\u001b[0m\u001b[0m\n\u001b[0m\u001b[0;32m     43\u001b[0m \u001b[0mKNN_f1\u001b[0m\u001b[1;33m,\u001b[0m \u001b[0mKNN_auc\u001b[0m \u001b[1;33m=\u001b[0m \u001b[0mf1_score\u001b[0m\u001b[1;33m(\u001b[0m\u001b[0mknn_label_test\u001b[0m\u001b[1;33m,\u001b[0m \u001b[0mKNN_Model_predict\u001b[0m\u001b[1;33m)\u001b[0m\u001b[1;33m,\u001b[0m \u001b[0mauc\u001b[0m\u001b[1;33m(\u001b[0m\u001b[0mKNN_recall\u001b[0m\u001b[1;33m,\u001b[0m \u001b[0mKNN_precision\u001b[0m\u001b[1;33m)\u001b[0m\u001b[1;33m\u001b[0m\u001b[1;33m\u001b[0m\u001b[0m\n\u001b[0;32m     44\u001b[0m \u001b[1;31m# summarize scores\u001b[0m\u001b[1;33m\u001b[0m\u001b[1;33m\u001b[0m\u001b[1;33m\u001b[0m\u001b[0m\n",
      "\u001b[1;31mNameError\u001b[0m: name 'precision_recall_curve' is not defined"
     ]
    }
   ],
   "source": [
    "# roc curve and auc\n",
    "from sklearn.datasets import make_classification\n",
    "from sklearn.model_selection import train_test_split\n",
    "from sklearn.metrics import roc_curve\n",
    "from sklearn.metrics import roc_auc_score\n",
    "from matplotlib import pyplot\n",
    "from sklearn.neighbors import KNeighborsClassifier as knn\n",
    "\n",
    "# generate 2 class dataset\n",
    "knnfeatures, knnlabels = make_classification(n_samples=1000, n_classes=2, random_state=1)\n",
    "# split into train/test sets\n",
    "knn_features_train, knn_features_test, knn_label_train, knn_label_test = train_test_split(knnfeatures, knnlabels, test_size=0.5, random_state=2)\n",
    "# generate a no skill prediction (majority class)\n",
    "ns_probs = [0 for _ in range(len(knn_label_test))]\n",
    "# fit a model\n",
    "model=knn(n_neighbors=5)\n",
    "model.fit(knn_features_train, knn_label_train)\n",
    "# predict probabilities\n",
    "KNN_probs = model.predict_proba(knn_features_test)\n",
    "# keep probabilities for the positive outcome only\n",
    "KNN_probs = KNN_probs[:, 1]\n",
    "# calculate scores\n",
    "KNN_prob_auc = roc_auc_score(knn_label_test, ns_probs)\n",
    "KNN_auc = roc_auc_score(knn_label_test, KNN_probs)\n",
    "# summarize scores\n",
    "print('No Skill: ROC AUC=%.3f' % (KNN_prob_auc))\n",
    "print('KNN: ROC AUC=%.3f' % (KNN_auc))\n",
    "# calculate roc curves\n",
    "KNN_fpr, KNN_tpr, _ = roc_curve(knn_label_test, ns_probs)\n",
    "KNN_fpr, KNN_tpr, _ = roc_curve(knn_label_test, KNN_probs)\n",
    "# plot the roc curve for the model\n",
    "pyplot.plot(KNN_fpr, KNN_tpr, linestyle='--', label='No Skill')\n",
    "pyplot.plot(KNN_fpr, KNN_tpr, marker='.', label='KNN')\n",
    "# axis labels\n",
    "pyplot.xlabel('False Positive Rate')\n",
    "pyplot.ylabel('True Positive Rate')\n",
    "# show the legend\n",
    "pyplot.legend()\n",
    "# show the plot\n",
    "pyplot.show()\n",
    "KNN_Model_predict = model.predict(knn_features_test)\n",
    "KNN_precision, KNN_recall, _ = precision_recall_curve(knn_label_test, KNN_probs)\n",
    "KNN_f1, KNN_auc = f1_score(knn_label_test, KNN_Model_predict), auc(KNN_recall, KNN_precision)\n",
    "# summarize scores\n",
    "print('Logistic: f1=%.3f auc=%.3f' % (KNN_f1, KNN_auc))\n",
    "# plot the precision-recall curves\n",
    "no_skill = len(knn_label_test[knn_label_test==1]) / len(knn_label_test)\n",
    "pyplot.plot([0, 1], [no_skill, no_skill], linestyle='--', label='No Skill')\n",
    "pyplot.plot(KNN_recall, KNN_precision, marker='.', label='Logistic')\n",
    "# axis labels\n",
    "pyplot.xlabel('Recall')\n",
    "pyplot.ylabel('Precision')\n",
    "# show the legend\n",
    "pyplot.legend()\n",
    "# show the plot\n",
    "pyplot.show()\n",
    "\n",
    "KNN_Matrix = confusion_matrix(y_true=knn_label_test, y_pred=KNN_Model_predict)\n",
    "#\n",
    "# Print the confusion matrix using Matplotlib\n",
    "#\n",
    "fig, ax = graph.subplots(figsize=(5, 5))\n",
    "ax.matshow(KNN_Matrix, cmap=graph.cm.Oranges, alpha=0.3)\n",
    "for i in range(KNN_Matrix.shape[0]):\n",
    "    for j in range(KNN_Matrix.shape[1]):\n",
    "        ax.text(x=j, y=i,s=KNN_Matrix[i, j], va='center', ha='center', size='xx-large')\n",
    " \n",
    "graph.xlabel('Predictions', fontsize=18)\n",
    "graph.ylabel('Actuals', fontsize=18)\n",
    "graph.title('Confusion Matrix', fontsize=18)\n",
    "graph.show()\n",
    "\n",
    "evaluateModel(knn_label_test,KNN_Model_predict)"
   ]
  },
  {
   "cell_type": "code",
   "execution_count": 18,
   "metadata": {},
   "outputs": [
    {
     "name": "stdout",
     "output_type": "stream",
     "text": [
      "No Skill: ROC AUC=0.500\n",
      "SVC: ROC AUC=0.897\n"
     ]
    },
    {
     "data": {
      "image/png": "[encoded data removed]",
      "text/plain": [
       "<Figure size 432x288 with 1 Axes>"
      ]
     },
     "metadata": {
      "needs_background": "light"
     },
     "output_type": "display_data"
    },
    {
     "name": "stdout",
     "output_type": "stream",
     "text": [
      "SVC: f1=0.851 auc=0.882\n"
     ]
    },
    {
     "data": {
      "image/png": "[encoded data removed]",
      "text/plain": [
       "<Figure size 432x288 with 1 Axes>"
      ]
     },
     "metadata": {
      "needs_background": "light"
     },
     "output_type": "display_data"
    },
    {
     "data": {
      "image/png": "[encoded data removed]",
      "text/plain": [
       "<Figure size 360x360 with 1 Axes>"
      ]
     },
     "metadata": {
      "needs_background": "light"
     },
     "output_type": "display_data"
    },
    {
     "name": "stdout",
     "output_type": "stream",
     "text": [
      "Modelacc is 84.2000%\n",
      " ModelPrecision is 83.6431%\n",
      " ModelRecall is 86.5385%\n",
      "ModelF1 Score is 0.8418\n",
      "\n"
     ]
    }
   ],
   "source": [
    "# roc curve and auc\n",
    "from sklearn.datasets import make_classification\n",
    "from sklearn.model_selection import train_test_split\n",
    "from sklearn.metrics import roc_curve\n",
    "from sklearn.metrics import roc_auc_score\n",
    "from matplotlib import pyplot\n",
    "from sklearn.svm import SVC\n",
    "\n",
    "# generate 2 class dataset\n",
    "SVCFeatures, SVCLabels = make_classification(n_samples=1000, n_classes=2, random_state=1)\n",
    "# split into train/test sets\n",
    "SVCtrainFeatures, SVCtestfeatures, SVCtrainlabels, SVCtestlabels = train_test_split(SVCFeatures, SVCLabels, test_size=0.5, random_state=2)\n",
    "# generate a no skill prediction (majority class)\n",
    "ns_probs = [0 for _ in range(len(SVCtestlabels))]\n",
    "# fit a model\n",
    "svcmodel=SVC(kernel='rbf', random_state=0,probability=True)\n",
    "svcmodel.fit(SVCtrainFeatures, SVCtrainlabels)\n",
    "# predict probabilities\n",
    "svc_probs = svcmodel.predict_proba(SVCtestfeatures)\n",
    "# keep probabilities for the positive outcome only\n",
    "svc_probs = svc_probs[:, 1]\n",
    "# calculate scores\n",
    "svc_prob_acc = roc_auc_score(SVCtestlabels, ns_probs)\n",
    "svc_auc = roc_auc_score(SVCtestlabels, svc_probs)\n",
    "# summarize scores\n",
    "print('No Skill: ROC AUC=%.3f' % (svc_prob_acc))\n",
    "print('SVC: ROC AUC=%.3f' % (svc_auc))\n",
    "# calculate roc curves\n",
    "svc_fpr, svc_tpr, _ = roc_curve(SVCtestlabels, ns_probs)\n",
    "sv_fpr, sv_tpr, _ = roc_curve(SVCtestlabels, svc_probs)\n",
    "# plot the roc curve for the model\n",
    "pyplot.plot(svc_fpr, svc_tpr, linestyle='--', label='No Skill')\n",
    "pyplot.plot(sv_fpr, sv_tpr, marker='.', label='SVC')\n",
    "# axis labels\n",
    "pyplot.xlabel('False Positive Rate')\n",
    "pyplot.ylabel('True Positive Rate')\n",
    "# show the legend\n",
    "pyplot.legend()\n",
    "# show the plot\n",
    "pyplot.show()\n",
    "\n",
    "svcmodelpredict = svcmodel.predict(SVCtestfeatures)\n",
    "svc_precision, svc_recall, _ = precision_recall_curve(SVCtestlabels, svc_probs)\n",
    "svc_f1, svc_auc = f1_score(SVCtestlabels, svcmodelpredict), auc(svc_recall, svc_precision)\n",
    "# summarize scores\n",
    "print('SVC: f1=%.3f auc=%.3f' % (svc_f1, svc_auc))\n",
    "# plot the precision-recall curves\n",
    "no_skill = len(SVCtestlabels[SVCtestlabels==1]) / len(SVCtestlabels)\n",
    "pyplot.plot([0, 1], [no_skill, no_skill], linestyle='--', label='No Skill')\n",
    "pyplot.plot(svc_recall, svc_precision, marker='.', label='SVC')\n",
    "# axis labels\n",
    "pyplot.xlabel('Recall')\n",
    "pyplot.ylabel('Precision')\n",
    "# show the legend\n",
    "pyplot.legend()\n",
    "# show the plot\n",
    "pyplot.show()\n",
    "\n",
    "svc_con_matrix = confusion_matrix(y_true=SVCtestlabels, y_pred=svcmodelpredict)\n",
    "#\n",
    "# Print the confusion matrix using Matplotlib\n",
    "#\n",
    "fig, ax = graph.subplots(figsize=(5, 5))\n",
    "ax.matshow(svc_con_matrix, cmap=graph.cm.Oranges, alpha=0.3)\n",
    "for i in range(svc_con_matrix.shape[0]):\n",
    "    for j in range(svc_con_matrix.shape[1]):\n",
    "        ax.text(x=j, y=i,s=svc_con_matrix[i, j], va='center', ha='center', size='xx-large')\n",
    " \n",
    "graph.xlabel('Predictions', fontsize=18)\n",
    "graph.ylabel('Actuals', fontsize=18)\n",
    "graph.title('Confusion Matrix', fontsize=18)\n",
    "graph.show()\n",
    "\n",
    "evaluateModel(SVCtestlabels,svcmodelpredict)"
   ]
  },
  {
   "cell_type": "code",
   "execution_count": 19,
   "metadata": {},
   "outputs": [
    {
     "name": "stdout",
     "output_type": "stream",
     "text": [
      "No Skill: ROC AUC=0.500\n",
      "SVC: ROC AUC=0.885\n"
     ]
    },
    {
     "data": {
      "image/png": "[encoded data removed]",
      "text/plain": [
       "<Figure size 432x288 with 1 Axes>"
      ]
     },
     "metadata": {
      "needs_background": "light"
     },
     "output_type": "display_data"
    },
    {
     "name": "stdout",
     "output_type": "stream",
     "text": [
      "GNB: f1=0.824 auc=0.868\n"
     ]
    },
    {
     "data": {
      "image/png": "[encoded data removed]",
      "text/plain": [
       "<Figure size 432x288 with 1 Axes>"
      ]
     },
     "metadata": {
      "needs_background": "light"
     },
     "output_type": "display_data"
    },
    {
     "data": {
      "image/png": "[encoded data removed]",
      "text/plain": [
       "<Figure size 360x360 with 1 Axes>"
      ]
     },
     "metadata": {
      "needs_background": "light"
     },
     "output_type": "display_data"
    },
    {
     "name": "stdout",
     "output_type": "stream",
     "text": [
      "Modelacc is 80.8000%\n",
      " ModelPrecision is 78.8732%\n",
      " ModelRecall is 86.1538%\n",
      "ModelF1 Score is 0.8072\n",
      "\n"
     ]
    }
   ],
   "source": [
    "# roc curve and auc\n",
    "from sklearn.datasets import make_classification\n",
    "from sklearn.model_selection import train_test_split\n",
    "from sklearn.metrics import roc_curve\n",
    "from sklearn.metrics import roc_auc_score\n",
    "from matplotlib import pyplot\n",
    "from sklearn.naive_bayes import GaussianNB as GNB\n",
    "\n",
    "\n",
    "# generate 2 class dataset\n",
    "GNBFeatures, GNBLabels = make_classification(n_samples=1000, n_classes=2, random_state=1)\n",
    "# split into train/test sets\n",
    "GNBtrainfeatures, GNBtestfeatures, GNBtrainlabels,GNGtestlabels = train_test_split(GNBFeatures, GNBLabels, test_size=0.5, random_state=2)\n",
    "# generate a no skill prediction (majority class)\n",
    "ns_probs = [0 for _ in range(len(GNGtestlabels))]\n",
    "# fit a model\n",
    "Nbmodel=GNB()\n",
    "Nbmodel.fit(GNBtrainfeatures, GNBtrainlabels)\n",
    "# predict probabilities\n",
    "GNB_probs = Nbmodel.predict_proba(GNBtestfeatures)\n",
    "# keep probabilities for the positive outcome only\n",
    "GNB_probs = GNB_probs[:, 1]\n",
    "# calculate scores\n",
    "svc_auc = roc_auc_score(GNGtestlabels, ns_probs)\n",
    "sv_auc = roc_auc_score(GNGtestlabels, GNB_probs)\n",
    "# summarize scores\n",
    "print('No Skill: ROC AUC=%.3f' % (svc_auc))\n",
    "print('SVC: ROC AUC=%.3f' % (sv_auc))\n",
    "# calculate roc curves\n",
    "svc_fpr, svc_tpr, _ = roc_curve(GNGtestlabels, ns_probs)\n",
    "sv_fpr, sv_tpr, _ = roc_curve(GNGtestlabels, GNB_probs)\n",
    "# plot the roc curve for the model\n",
    "pyplot.plot(svc_fpr, svc_tpr, linestyle='--', label='No Skill')\n",
    "pyplot.plot(sv_fpr, sv_tpr, marker='.', label='SVC')\n",
    "# axis labels\n",
    "pyplot.xlabel('False Positive Rate')\n",
    "pyplot.ylabel('True Positive Rate')\n",
    "# show the legend\n",
    "pyplot.legend()\n",
    "# show the plot\n",
    "pyplot.show()\n",
    "\n",
    "gnbmodelpredict = Nbmodel.predict(GNBtestfeatures)\n",
    "svc_precision,svc_recall, _ = precision_recall_curve(GNGtestlabels, GNB_probs)\n",
    "svc_f1, sv_auc = f1_score(GNGtestlabels, gnbmodelpredict), auc(svc_recall, svc_precision)\n",
    "# summarize scores\n",
    "print('GNB: f1=%.3f auc=%.3f' % (svc_f1, sv_auc))\n",
    "# plot the precision-recall curves\n",
    "no_skill = len(GNGtestlabels[GNGtestlabels==1]) / len(GNGtestlabels)\n",
    "pyplot.plot([0, 1], [no_skill, no_skill], linestyle='--', label='No Skill')\n",
    "pyplot.plot(svc_recall, svc_precision, marker='.', label='GNB')\n",
    "# axis labels\n",
    "pyplot.xlabel('Recall')\n",
    "pyplot.ylabel('Precision')\n",
    "# show the legend\n",
    "pyplot.legend()\n",
    "# show the plot\n",
    "pyplot.show()\n",
    "\n",
    "GNB_Con_matrix = confusion_matrix(y_true=GNGtestlabels, y_pred=gnbmodelpredict)\n",
    "#\n",
    "# Print the confusion matrix using Matplotlib\n",
    "#\n",
    "fig, ax = graph.subplots(figsize=(5, 5))\n",
    "ax.matshow(GNB_Con_matrix, cmap=graph.cm.Oranges, alpha=0.3)\n",
    "for i in range(GNB_Con_matrix.shape[0]):\n",
    "    for j in range(GNB_Con_matrix.shape[1]):\n",
    "        ax.text(x=j, y=i,s=GNB_Con_matrix[i, j], va='center', ha='center', size='xx-large')\n",
    " \n",
    "graph.xlabel('Predictions', fontsize=18)\n",
    "graph.ylabel('Actuals', fontsize=18)\n",
    "graph.title('Confusion Matrix', fontsize=18)\n",
    "graph.show()\n",
    "\n",
    "evaluateModel(GNGtestlabels,gnbmodelpredict)"
   ]
  },
  {
   "cell_type": "code",
   "execution_count": 20,
   "metadata": {},
   "outputs": [
    {
     "name": "stdout",
     "output_type": "stream",
     "text": [
      "No Skill: ROC AUC=0.500\n",
      "RFC: ROC AUC=0.900\n"
     ]
    },
    {
     "data": {
      "image/png": "[encoded data removed]",
      "text/plain": [
       "<Figure size 432x288 with 1 Axes>"
      ]
     },
     "metadata": {
      "needs_background": "light"
     },
     "output_type": "display_data"
    },
    {
     "name": "stdout",
     "output_type": "stream",
     "text": [
      "RFC: f1=0.829 auc=0.909\n"
     ]
    },
    {
     "data": {
      "image/png": "[encoded data removed]",
      "text/plain": [
       "<Figure size 432x288 with 1 Axes>"
      ]
     },
     "metadata": {
      "needs_background": "light"
     },
     "output_type": "display_data"
    },
    {
     "data": {
      "image/png": "[encoded data removed]",
      "text/plain": [
       "<Figure size 360x360 with 1 Axes>"
      ]
     },
     "metadata": {
      "needs_background": "light"
     },
     "output_type": "display_data"
    },
    {
     "name": "stdout",
     "output_type": "stream",
     "text": [
      "Modelacc is 82.2000%\n",
      " ModelPrecision is 83.0116%\n",
      " ModelRecall is 82.6923%\n",
      "ModelF1 Score is 0.8220\n",
      "\n"
     ]
    }
   ],
   "source": [
    "# roc curve and auc\n",
    "from sklearn.datasets import make_classification\n",
    "from sklearn.model_selection import train_test_split\n",
    "from sklearn.metrics import roc_curve\n",
    "from sklearn.metrics import roc_auc_score\n",
    "from matplotlib import pyplot\n",
    "from sklearn.ensemble import RandomForestClassifier as rf\n",
    "\n",
    "\n",
    "# generate 2 class dataset\n",
    "RFCFeatures, RFCLabels = make_classification(n_samples=1000, n_classes=2, random_state=1)\n",
    "# split into train/test sets\n",
    "RFCtrainfeatures, RFCtestfeatures, RFCtrainlabels, RFCtestlabels = train_test_split(RFCFeatures, RFCLabels, test_size=0.5, random_state=2)\n",
    "# generate a no skill prediction (majority class)\n",
    "ns_probs = [0 for _ in range(len(RFCtestlabels))]\n",
    "# fit a model\n",
    "rfcmodel= rf(n_estimators=10,criterion='entropy',random_state=0)\n",
    "rfcmodel.fit(RFCtrainfeatures, RFCtrainlabels)\n",
    "# predict probabilities\n",
    "rfc_probs = rfcmodel.predict_proba(RFCtestfeatures)\n",
    "# keep probabilities for the positive outcome only\n",
    "rfc_probs = rfc_probs[:, 1]\n",
    "# calculate scores\n",
    "nrfc_auc = roc_auc_score(RFCtestlabels, ns_probs)\n",
    "rfc_auc = roc_auc_score(RFCtestlabels, rfc_probs)\n",
    "# summarize scores\n",
    "print('No Skill: ROC AUC=%.3f' % (nrfc_auc))\n",
    "print('RFC: ROC AUC=%.3f' % (rfc_auc))\n",
    "# calculate roc curves\n",
    "nrfc_fpr, nrfc_tpr, _ = roc_curve(RFCtestlabels, ns_probs)\n",
    "rfc_fpr, rfc_tpr, _ = roc_curve(RFCtestlabels, rfc_probs)\n",
    "# plot the roc curve for the model\n",
    "pyplot.plot(nrfc_fpr, nrfc_tpr, linestyle='--', label='No Skill')\n",
    "pyplot.plot(rfc_fpr, rfc_tpr, marker='.', label='RFC')\n",
    "# axis labels\n",
    "pyplot.xlabel('False Positive Rate')\n",
    "pyplot.ylabel('True Positive Rate')\n",
    "# show the legend\n",
    "pyplot.legend()\n",
    "# show the plot\n",
    "pyplot.show()\n",
    "\n",
    "RCCModelpredict = rfcmodel.predict(RFCtestfeatures)\n",
    "RFC_precision, RFC_recall, _ = precision_recall_curve(RFCtestlabels, rfc_probs)\n",
    "lr_f1, rfc_auc = f1_score(RFCtestlabels, RCCModelpredict), auc(RFC_recall, RFC_precision)\n",
    "# summarize scores\n",
    "print('RFC: f1=%.3f auc=%.3f' % (lr_f1, rfc_auc))\n",
    "# plot the precision-recall curves\n",
    "no_skill = len(RFCtestlabels[RFCtestlabels==1]) / len(RFCtestlabels)\n",
    "pyplot.plot([0, 1], [no_skill, no_skill], linestyle='--', label='No Skill')\n",
    "pyplot.plot(RFC_recall, RFC_precision, marker='.', label='Logistic')\n",
    "# axis labels\n",
    "pyplot.xlabel('Recall')\n",
    "pyplot.ylabel('Precision')\n",
    "# show the legend\n",
    "pyplot.legend()\n",
    "# show the plot\n",
    "pyplot.show()\n",
    "\n",
    " \n",
    "RFC_matrix = confusion_matrix(y_true=RFCtestlabels, y_pred=RCCModelpredict)\n",
    "#\n",
    "# Print the confusion matrix using Matplotlib\n",
    "#\n",
    "fig, ax = graph.subplots(figsize=(5, 5))\n",
    "ax.matshow(RFC_matrix, cmap=graph.cm.Oranges, alpha=0.3)\n",
    "for i in range(RFC_matrix.shape[0]):\n",
    "    for j in range(RFC_matrix.shape[1]):\n",
    "        ax.text(x=j, y=i,s=RFC_matrix[i, j], va='center', ha='center', size='xx-large')\n",
    " \n",
    "graph.xlabel('Predictions', fontsize=18)\n",
    "graph.ylabel('Actuals', fontsize=18)\n",
    "graph.title('Confusion Matrix', fontsize=18)\n",
    "graph.show()\n",
    "\n",
    "evaluateModel(RFCtestlabels,RCCModelpredict)"
   ]
  },
  {
   "cell_type": "markdown",
   "metadata": {},
   "source": [
    "# Proposed Algorithm"
   ]
  },
  {
   "cell_type": "code",
   "execution_count": 22,
   "metadata": {},
   "outputs": [
    {
     "name": "stdout",
     "output_type": "stream",
     "text": [
      "No Skill: ROC AUC=0.500\n",
      "SVC: ROC AUC=0.904\n"
     ]
    },
    {
     "data": {
      "image/png": "[encoded data removed]",
      "text/plain": [
       "<Figure size 432x288 with 1 Axes>"
      ]
     },
     "metadata": {
      "needs_background": "light"
     },
     "output_type": "display_data"
    },
    {
     "name": "stdout",
     "output_type": "stream",
     "text": [
      "Logistic: f1=0.828 auc=0.886\n"
     ]
    },
    {
     "data": {
      "image/png": "[encoded data removed]",
      "text/plain": [
       "<Figure size 432x288 with 1 Axes>"
      ]
     },
     "metadata": {
      "needs_background": "light"
     },
     "output_type": "display_data"
    },
    {
     "data": {
      "image/png": "[encoded data removed]",
      "text/plain": [
       "<Figure size 360x360 with 1 Axes>"
      ]
     },
     "metadata": {
      "needs_background": "light"
     },
     "output_type": "display_data"
    },
    {
     "name": "stdout",
     "output_type": "stream",
     "text": [
      "Modelacc is 82.8000%\n",
      " ModelPrecision is 86.2500%\n",
      " ModelRecall is 79.6154%\n",
      "ModelF1 Score is 0.8280\n",
      "\n"
     ]
    }
   ],
   "source": [
    "# roc curve and auc\n",
    "from sklearn.datasets import make_classification\n",
    "from sklearn.ensemble import GradientBoostingClassifier\n",
    "from sklearn.model_selection import train_test_split\n",
    "from sklearn.metrics import roc_curve\n",
    "from sklearn.metrics import roc_auc_score\n",
    "from matplotlib import pyplot\n",
    "from sklearn.naive_bayes import GaussianNB as GNB\n",
    "\n",
    "\n",
    "# generate 2 class dataset\n",
    "X, y = make_classification(n_samples=1000, n_classes=2, random_state=1)\n",
    "# split into train/test sets\n",
    "trainX, testX, trainy, testy = train_test_split(X, y, test_size=0.5, random_state=2)\n",
    "# generate a no skill prediction (majority class)\n",
    "ns_probs = [0 for _ in range(len(testy))]\n",
    "# fit a model\n",
    "# Instantiate Gradient Boosting Regressor\n",
    "gbc = GradientBoostingClassifier(n_estimators=300,\n",
    "                                 learning_rate=0.05,\n",
    "                                 random_state=100,\n",
    "                                 max_features=5 )\n",
    "gbc.fit(trainX, trainy)\n",
    "# predict probabilities\n",
    "lr_probs = gbc.predict_proba(testX)\n",
    "# keep probabilities for the positive outcome only\n",
    "lr_probs = lr_probs[:, 1]\n",
    "# calculate scores\n",
    "ns_auc = roc_auc_score(testy, ns_probs)\n",
    "lr_auc = roc_auc_score(testy, lr_probs)\n",
    "# summarize scores\n",
    "print('No Skill: ROC AUC=%.3f' % (ns_auc))\n",
    "print('SVC: ROC AUC=%.3f' % (lr_auc))\n",
    "# calculate roc curves\n",
    "ns_fpr, ns_tpr, _ = roc_curve(testy, ns_probs)\n",
    "lr_fpr, lr_tpr, _ = roc_curve(testy, lr_probs)\n",
    "# plot the roc curve for the model\n",
    "pyplot.plot(ns_fpr, ns_tpr, linestyle='--', label='No Skill')\n",
    "pyplot.plot(lr_fpr, lr_tpr, marker='.', label='SVC')\n",
    "# axis labels\n",
    "pyplot.xlabel('False Positive Rate')\n",
    "pyplot.ylabel('True Positive Rate')\n",
    "# show the legend\n",
    "pyplot.legend()\n",
    "# show the plot\n",
    "pyplot.show()\n",
    "\n",
    "yhat = gbc.predict(testX)\n",
    "lr_precision, lr_recall, _ = precision_recall_curve(testy, lr_probs)\n",
    "lr_f1, lr_auc = f1_score(testy, yhat), auc(lr_recall, lr_precision)\n",
    "# summarize scores\n",
    "print('Logistic: f1=%.3f auc=%.3f' % (lr_f1, lr_auc))\n",
    "# plot the precision-recall curves\n",
    "no_skill = len(testy[testy==1]) / len(testy)\n",
    "pyplot.plot([0, 1], [no_skill, no_skill], linestyle='--', label='No Skill')\n",
    "pyplot.plot(lr_recall, lr_precision, marker='.', label='Logistic')\n",
    "# axis labels\n",
    "pyplot.xlabel('Recall')\n",
    "pyplot.ylabel('Precision')\n",
    "# show the legend\n",
    "pyplot.legend()\n",
    "# show the plot\n",
    "pyplot.show()\n",
    "\n",
    "conf_matrix = confusion_matrix(y_true=testy, y_pred=yhat)\n",
    "#\n",
    "# Print the confusion matrix using Matplotlib\n",
    "#\n",
    "fig, ax = graph.subplots(figsize=(5, 5))\n",
    "ax.matshow(conf_matrix, cmap=graph.cm.Oranges, alpha=0.3)\n",
    "for i in range(conf_matrix.shape[0]):\n",
    "    for j in range(conf_matrix.shape[1]):\n",
    "        ax.text(x=j, y=i,s=conf_matrix[i, j], va='center', ha='center', size='xx-large')\n",
    " \n",
    "graph.xlabel('Predictions', fontsize=18)\n",
    "graph.ylabel('Actuals', fontsize=18)\n",
    "graph.title('Confusion Matrix', fontsize=18)\n",
    "graph.show()\n",
    "\n",
    "evaluateModel(testy,yhat)"
   ]
  },
  {
   "cell_type": "code",
   "execution_count": 23,
   "metadata": {},
   "outputs": [],
   "source": [
    "RFC=82.2000\n",
    "GNB=80.8000\n",
    "SVC=84.2000\n",
    "KNN=79.6000\n",
    "LR=83.4000\n",
    "AL=97.2590\n",
    "GB=82.800\n"
   ]
  },
  {
   "cell_type": "code",
   "execution_count": 24,
   "metadata": {},
   "outputs": [
    {
     "data": {
      "image/png": "[encoded data removed]",
      "text/plain": [
       "<Figure size 432x288 with 1 Axes>"
      ]
     },
     "metadata": {
      "needs_background": "light"
     },
     "output_type": "display_data"
    }
   ],
   "source": [
    "import matplotlib.pyplot as plt\n",
    "fig = plt.figure()\n",
    "ax = fig.add_axes([0,0,1,1])\n",
    "x=['RandomForest','SVM','LR','NB','KNN','AL','GB']\n",
    "y = [RFC, SVC, LR,GNB, KNN,AL,GB]\n",
    "ax.bar(x,y)\n",
    "plt.show()"
   ]
  },
  {
   "cell_type": "code",
   "execution_count": 25,
   "metadata": {},
   "outputs": [
    {
     "name": "stdout",
     "output_type": "stream",
     "text": [
      "Adaboost:  83.2\n",
      "\n",
      "\n"
     ]
    }
   ],
   "source": [
    "from sklearn.ensemble import VotingClassifier\n",
    "from sklearn.metrics import classification_report, confusion_matrix\n",
    "\n",
    "from sklearn.ensemble import BaggingClassifier\n",
    "from sklearn.model_selection import GridSearchCV\n",
    "from sklearn.ensemble import AdaBoostClassifier\n",
    " \n",
    "#create a dictionary of base learners\n",
    "estimators=[('knn',model),('nb', Nbmodel)]\n",
    "#create voting classifier\n",
    "clf = AdaBoostClassifier(n_estimators=100) \n",
    "#fit model to training data\n",
    "clf.fit(RFCtrainfeatures, RFCtrainlabels) \n",
    "# get predictions from best model above\n",
    "y_preds_mv = clf.predict(RFCtestfeatures)\n",
    "print('Adaboost: ',clf.score(RFCtestfeatures, RFCtestlabels)*100)\n",
    "print('\\n')\n",
    " "
   ]
  },
  {
   "cell_type": "code",
   "execution_count": 26,
   "metadata": {},
   "outputs": [
    {
     "name": "stdout",
     "output_type": "stream",
     "text": [
      "No Skill: ROC AUC=0.500\n",
      "MV: ROC AUC=0.901\n"
     ]
    },
    {
     "data": {
      "image/png": "[encoded data removed]",
      "text/plain": [
       "<Figure size 432x288 with 1 Axes>"
      ]
     },
     "metadata": {
      "needs_background": "light"
     },
     "output_type": "display_data"
    },
    {
     "name": "stdout",
     "output_type": "stream",
     "text": [
      "MV: f1=0.837 auc=0.904\n"
     ]
    },
    {
     "data": {
      "image/png": "[encoded data removed]",
      "text/plain": [
       "<Figure size 432x288 with 1 Axes>"
      ]
     },
     "metadata": {
      "needs_background": "light"
     },
     "output_type": "display_data"
    },
    {
     "data": {
      "image/png": "[encoded data removed]",
      "text/plain": [
       "<Figure size 360x360 with 1 Axes>"
      ]
     },
     "metadata": {
      "needs_background": "light"
     },
     "output_type": "display_data"
    },
    {
     "name": "stdout",
     "output_type": "stream",
     "text": [
      "Modelacc is 82.4000%\n",
      " ModelPrecision is 80.7143%\n",
      " ModelRecall is 86.9231%\n",
      "ModelF1 Score is 0.8234\n",
      "\n"
     ]
    }
   ],
   "source": [
    "# roc curve and auc\n",
    "from sklearn.datasets import make_classification\n",
    "from sklearn.model_selection import train_test_split\n",
    "from sklearn.metrics import roc_curve\n",
    "from sklearn.metrics import roc_auc_score\n",
    "from matplotlib import pyplot\n",
    "from sklearn.ensemble import VotingClassifier\n",
    "from sklearn.metrics import classification_report, confusion_matrix\n",
    "import joblib\n",
    "\n",
    "# generate 2 class dataset\n",
    "mvfeatures, mvlabels = make_classification(n_samples=1000, n_classes=2, random_state=1)\n",
    "# split into train/test sets\n",
    "mvtrainfeatures, mvtestfeatures, mvtrainlabels, mvtestlabels = train_test_split(mvfeatures, mvlabels, test_size=0.5, random_state=2)\n",
    "# generate a no skill prediction (majority class)\n",
    "ns_probs = [0 for _ in range(len(mvtestlabels))]\n",
    "# fit a model\n",
    "estimators=[('rfc', rfcmodel), ('knn',model),('nb', Nbmodel)]\n",
    "majority_voting = VotingClassifier(estimators, voting='soft')\n",
    "majority_voting.fit(mvtrainfeatures, mvtrainlabels)\n",
    "# predict probabilities\n",
    "mv_probs = majority_voting.predict_proba(mvtestfeatures)\n",
    "# keep probabilities for the positive outcome only\n",
    "mv_probs = mv_probs[:, 1]\n",
    "# calculate scores\n",
    "nmv_auc = roc_auc_score(mvtestlabels, ns_probs)\n",
    "mv_auc = roc_auc_score(mvtestlabels, mv_probs)\n",
    "# summarize scores\n",
    "print('No Skill: ROC AUC=%.3f' % (nmv_auc))\n",
    "print('MV: ROC AUC=%.3f' % (mv_auc))\n",
    "# calculate roc curves\n",
    "nmv_fpr, nmv_tpr, _ = roc_curve(mvtestlabels, ns_probs)\n",
    "mv_fpr, mv_tpr, _ = roc_curve(mvtestlabels, mv_probs)\n",
    "# plot the roc curve for the model\n",
    "pyplot.plot(nmv_fpr, nmv_tpr, linestyle='--', label='No Skill')\n",
    "pyplot.plot(mv_fpr, mv_tpr, marker='.', label='MV')\n",
    "# axis labels\n",
    "pyplot.xlabel('False Positive Rate')\n",
    "pyplot.ylabel('True Positive Rate')\n",
    "# show the legend\n",
    "pyplot.legend()\n",
    "# show the plot\n",
    "pyplot.show()\n",
    "\n",
    "mvmodelpredict = majority_voting.predict(mvtestfeatures)\n",
    "mv_precision, mv_recall, _ = precision_recall_curve(mvtestlabels, mv_probs)\n",
    "mv_f1, mv_auc = f1_score(mvtestlabels, mvmodelpredict), auc(mv_recall, mv_precision)\n",
    "# summarize scores\n",
    "print('MV: f1=%.3f auc=%.3f' % (mv_f1, mv_auc))\n",
    "# plot the precision-recall curves\n",
    "no_skill = len(mvtestlabels[mvtestlabels==1]) / len(mvtestlabels)\n",
    "pyplot.plot([0, 1], [no_skill, no_skill], linestyle='--', label='No Skill')\n",
    "pyplot.plot(mv_recall, mv_precision, marker='.', label='MV')\n",
    "# axis labels\n",
    "pyplot.xlabel('Recall')\n",
    "pyplot.ylabel('Precision')\n",
    "# show the legend\n",
    "pyplot.legend()\n",
    "# show the plot\n",
    "pyplot.show()\n",
    "\n",
    " \n",
    "mvmatrix = confusion_matrix(y_true=mvtestlabels, y_pred=mvmodelpredict)\n",
    "#\n",
    "# Print the confusion matrix using Matplotlib\n",
    "#\n",
    "fig, ax = graph.subplots(figsize=(5, 5))\n",
    "ax.matshow(mvmatrix, cmap=graph.cm.Oranges, alpha=0.3)\n",
    "for i in range(mvmatrix.shape[0]):\n",
    "    for j in range(mvmatrix.shape[1]):\n",
    "        ax.text(x=j, y=i,s=mvmatrix[i, j], va='center', ha='center', size='xx-large')\n",
    " \n",
    "graph.xlabel('Predictions', fontsize=18)\n",
    "graph.ylabel('Actuals', fontsize=18)\n",
    "graph.title('Confusion Matrix', fontsize=18)\n",
    "graph.show()\n",
    "\n",
    "evaluateModel(mvtestlabels,mvmodelpredict)"
   ]
  },
  {
   "cell_type": "code",
   "execution_count": null,
   "metadata": {},
   "outputs": [],
   "source": []
  }
 ],
 "metadata": {
  "kernelspec": {
   "display_name": "Python 3",
   "language": "python",
   "name": "python3"
  },
  "language_info": {
   "codemirror_mode": {
    "name": "ipython",
    "version": 3
   },
   "file_extension": ".py",
   "mimetype": "text/x-python",
   "name": "python",
   "nbconvert_exporter": "python",
   "pygments_lexer": "ipython3",
   "version": "3.7.9"
  }
 },
 "nbformat": 4,
 "nbformat_minor": 4
}
