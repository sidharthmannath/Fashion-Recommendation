{
 "cells": [
  {
   "cell_type": "code",
   "execution_count": null,
   "id": "theoretical-alert",
   "metadata": {},
   "outputs": [],
   "source": [
    "\n",
    "import pandas as pd\n",
    "import numpy as np\n",
    "# ML Packages For Vectorization of Text For Feature Extraction\n",
    "from sklearn.feature_extraction.text import CountVectorizer\n",
    "from sklearn.feature_extraction.text import TfidfVectorizer\n",
    "# Visualization Packages\n",
    "import matplotlib.pyplot as plt\n",
    "import seaborn as sns\n",
    "from sklearn import linear_model\n"
   ]
  },
  {
   "cell_type": "code",
   "execution_count": null,
   "id": "significant-intake",
   "metadata": {},
   "outputs": [],
   "source": [
    "check = \"dataa\"\n",
    "df = pd.read_csv(\"MeToo_tweets.csv\")\n",
    "df_data = df[[\"tweet\",\"label\"]]\n",
    "df_data.columns\n",
    "df_x = df_data['tweet']\n",
    "df_y = df_data['label']"
   ]
  },
  {
   "cell_type": "code",
   "execution_count": null,
   "id": "whole-keeping",
   "metadata": {},
   "outputs": [],
   "source": [
    "   # #### Feature Extraction From Text\n",
    "    # + CountVectorizer\n",
    "    # + TfidfVectorizer\n",
    "\n",
    "    # Extract Feature With CountVectorizer\n",
    "corpus = df_x\n",
    "    #print(corpus)\n",
    "cv = CountVectorizer()\n",
    "X = cv.fit_transform(corpus) # Fit the Data\n",
    "    #print(X)\n",
    "\n",
    "X.toarray()\n",
    "\n",
    "    # get the feature names\n",
    "cv.get_feature_names()\n"
   ]
  },
  {
   "cell_type": "code",
   "execution_count": null,
   "id": "resident-edition",
   "metadata": {},
   "outputs": [],
   "source": [
    "\n",
    "    from sklearn.model_selection import train_test_split\n",
    "X_train, X_test, y_train, y_test = train_test_split(X , df_y, test_size=0.33, random_state=42)\n"
   ]
  },
  {
   "cell_type": "code",
   "execution_count": null,
   "id": "public-screw",
   "metadata": {},
   "outputs": [],
   "source": [
    "   \n",
    "    # Naive Bayes Classifier\n",
    "    from sklearn.naive_bayes import MultinomialNB\n",
    "clf = MultinomialNB()\n",
    "    #clf=linear_model.LogisticRegression(fit_intercept=False)\n",
    "clf.fit(X_train,y_train)\n",
    "clf.score(X_test,y_test)\n",
    "\n",
    "    # Accuracy of our Model\n",
    "print(\"Accuracy of Model\",clf.score(X_test,y_test)*100,\"%\")\n",
    "    \n"
   ]
  },
  {
   "cell_type": "code",
   "execution_count": null,
   "id": "domestic-israel",
   "metadata": {},
   "outputs": [],
   "source": [
    "    ### Save the Model \n",
    "\n",
    "import pickle \n",
    "\n",
    "naivebayesML = open(\"womensafe.pkl\",\"wb\")\n",
    "\n",
    "pickle.dump(clf,naivebayesML)\n",
    "\n",
    "naivebayesML.close()\n"
   ]
  },
  {
   "cell_type": "code",
   "execution_count": null,
   "id": "given-associate",
   "metadata": {},
   "outputs": [],
   "source": [
    "\n",
    "    # Load the model\n",
    "\n",
    "\n",
    "ytb_model = open(\"womensafe.pkl\",\"rb\")\n",
    "\n",
    "new_model = pickle.load(ytb_model)\n"
   ]
  },
  {
   "cell_type": "code",
   "execution_count": null,
   "id": "monetary-cooper",
   "metadata": {},
   "outputs": [],
   "source": [
    "\n",
    "\n",
    "    # Sample Prediciton 3\n",
    "comment2 = [check]\n",
    "vect = cv.transform(comment2).toarray()\n",
    "    #new_model.predict(vect)   \n",
    "\n"
   ]
  },
  {
   "cell_type": "code",
   "execution_count": null,
   "id": "continental-phase",
   "metadata": {},
   "outputs": [],
   "source": [
    "\n",
    "if new_model.predict(vect) == 1:\n",
    "    result = True\n",
    "    #print(\"not safe\")\n",
    "else:\n",
    "    result = False\n",
    "    # print(\"safe\") \n",
    "return result"
   ]
  },
  {
   "cell_type": "code",
   "execution_count": null,
   "id": "convenient-scotland",
   "metadata": {},
   "outputs": [],
   "source": [
    "from sklearn.metrics import accuracy_score\n",
    "from xgboost import XGBRegressor\n",
    "from sklearn.model_selection import train_test_split\n",
    "import numpy as np\n",
    "import matplotlib.pyplot as plt\n",
    "import pandas as pd"
   ]
  },
  {
   "cell_type": "code",
   "execution_count": null,
   "id": "third-conducting",
   "metadata": {},
   "outputs": [],
   "source": [
    "my_model = XGBRegressor()\n",
    "# Add silent=True to avoid printing out updates with each cycle\n",
    "my_model.fit(X_train,y_train, verbose=False)\n",
    "# make predictions\n",
    "predictions = my_model.predict(test_X)"
   ]
  },
  {
   "cell_type": "code",
   "execution_count": null,
   "id": "minor-occasion",
   "metadata": {},
   "outputs": [],
   "source": [
    "my_model.score(X_test,y_test)\n",
    "print(\"Accuracy of Model\",my_model.score(X_test,y_test)*100,\"%\")"
   ]
  }
 ],
 "metadata": {
  "kernelspec": {
   "display_name": "Python 3",
   "language": "python",
   "name": "python3"
  },
  "language_info": {
   "codemirror_mode": {
    "name": "ipython",
    "version": 3
   },
   "file_extension": ".py",
   "mimetype": "text/x-python",
   "name": "python",
   "nbconvert_exporter": "python",
   "pygments_lexer": "ipython3",
   "version": "3.7.9"
  }
 },
 "nbformat": 4,
 "nbformat_minor": 5
}
